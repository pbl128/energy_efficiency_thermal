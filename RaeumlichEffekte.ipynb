{
 "cells": [
  {
   "cell_type": "code",
   "execution_count": null,
   "metadata": {},
   "outputs": [],
   "source": [
    "import geopandas as gpd\n",
    "from libpysal.weights import DistanceBand\n",
    "from spreg import GM_Error\n",
    "from spreg import GM_Lag\n",
    "\n",
    "# import data\n",
    "gdf = gpd.read_file(\"Geodaten100m/Buildings_LST_Points_100m_oneGroup.shp\")\n",
    "y = gdf[[\"RoofEff\"]].values\n",
    "X = gdf[[\"LST\"]].values\n",
    "\n",
    "# calculate weight matrix based on inverse distances with treshold 100 m\n",
    "w = DistanceBand.from_dataframe(gdf, threshold=100)\n",
    "w.transform = \"r\"\n",
    "\n",
    "# calculate spatial lag modell\n",
    "slm_model = GM_Lag(y, X, w=w)\n",
    "data_reg_slm = []\n",
    "data_reg_slm.append({\n",
    "    \"intercept\": slm_model.betas[0][0],\n",
    "    \"slope\": slm_model.betas[1][0],\n",
    "    \"pseudo_r_squared\": slm_model.pr2,\n",
    "    \"p_value\": slm_model.z_stat[1][1],\n",
    "    \"rho\": slm_model.rho[0],\n",
    "    \"p_value_rho\": slm_model.z_stat[2][1],\n",
    "})\n",
    "reg_slm = pd.DataFrame(data_reg_slm) \n",
    "print(\"Spatial Lag:\")\n",
    "print(reg_slm)\n",
    "gdf[\"slm_Resid\"] = slm_model.u.flatten()\n",
    "\n",
    "# calculate spatial error modell\n",
    "sem_model = GM_Error(y, X, w=w)\n",
    "data_reg_sem = []\n",
    "data_reg_sem.append({\n",
    "    \"intercept\": sem_model.betas[0][0],\n",
    "    \"slope\": sem_model.betas[1][0],\n",
    "    \"pseudo_r_squared\": sem_model.pr2,\n",
    "    \"p_value\": sem_model.z_stat[1][1],\n",
    "    \"lambda\": sem_model.betas[-1][0],\n",
    "    \"p_value_lambda\": sem_model.z_stat[-1][1],\n",
    "})\n",
    "reg_sem = pd.DataFrame(data_reg_sem) \n",
    "print(\"\\nSpatial Error:\")\n",
    "print(reg_sem)\n",
    "gdf[\"sem_Resid\"] = sem_model.u.flatten()\n",
    "\n",
    "# export shape-file with residuals\n",
    "gdf.to_file(\"GeodatenResid\\Buildings_LST_Points_100m_oneGroup_Resid.shp\", driver=\"ESRI Shapefile\", encoding=\"utf-8\")"
   ]
  }
 ],
 "metadata": {
  "kernelspec": {
   "display_name": "base",
   "language": "python",
   "name": "python3"
  },
  "language_info": {
   "codemirror_mode": {
    "name": "ipython",
    "version": 3
   },
   "file_extension": ".py",
   "mimetype": "text/x-python",
   "name": "python",
   "nbconvert_exporter": "python",
   "pygments_lexer": "ipython3",
   "version": "3.12.7"
  }
 },
 "nbformat": 4,
 "nbformat_minor": 2
}
