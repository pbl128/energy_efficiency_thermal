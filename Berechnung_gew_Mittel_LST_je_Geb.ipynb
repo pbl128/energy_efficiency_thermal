{
 "cells": [
  {
   "cell_type": "code",
   "execution_count": null,
   "metadata": {},
   "outputs": [],
   "source": [
    "import arcpy\n",
    "import pandas as pd\n",
    "import numpy as np\n",
    "\n",
    "fc = \"Buildings_buffer_mosaic_12_intersect_075\"\n",
    "fields = [\"id\", \"grid_code\", \"area_share\"]\n",
    "data =[]\n",
    "\n",
    "with arcpy.da.SearchCursor(fc, fields) as cursor:\n",
    "    for row in cursor:\n",
    "        data.append(row)\n",
    "\n",
    "df = pd.DataFrame(data, columns=fields)\n",
    "\n",
    "result_20221112 = df.groupby(\"id\").agg(\n",
    "    BT_wMean_12=(\"grid_code\", lambda x: np.average(x, weights=df.loc[x.index, \"area_share\"])),\n",
    "    BT_wMean_Count_Grids_12=(\"id\", \"count\")  \n",
    ").reset_index()\n",
    "\n",
    "csv_path=r\"C:\\Users\\p_bl\\Desktop\\Studium_Master\\15_Thesis\\ArcGIS_MT\\ArcGIS_MT_Thermal\\result_20221112.csv\"\n",
    "result_20221112.to_csv(csv_path, index=False)"
   ]
  }
 ],
 "metadata": {
  "kernelspec": {
   "display_name": "ArcGISPro",
   "language": "python",
   "name": "python3"
  },
  "language_info": {
   "file_extension": ".py",
   "mimetype": "text/x-python",
   "name": "python",
   "version": "3.11.10"
  }
 },
 "nbformat": 4,
 "nbformat_minor": 4
}
